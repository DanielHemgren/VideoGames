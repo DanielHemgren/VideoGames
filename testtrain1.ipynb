{
 "cells": [
  {
   "cell_type": "code",
   "execution_count": 12,
   "id": "31c74518",
   "metadata": {},
   "outputs": [],
   "source": [
    "import pandas as pd\n",
    "import numpy as np"
   ]
  },
  {
   "cell_type": "code",
   "execution_count": 13,
   "id": "f0945e34",
   "metadata": {},
   "outputs": [],
   "source": [
    "video_games_sales=pd.read_csv(\"Video_Games_Sales_as_at_22_Dec_2016.csv\")"
   ]
  },
  {
   "cell_type": "code",
   "execution_count": 14,
   "id": "bc11bef8",
   "metadata": {},
   "outputs": [
    {
     "data": {
      "text/plain": [
       "(16719, 10)"
      ]
     },
     "execution_count": 14,
     "metadata": {},
     "output_type": "execute_result"
    }
   ],
   "source": [
    "v2 = video_games_sales.drop(columns=['User_Score', 'NA_Sales', 'JP_Sales', 'Other_Sales', 'Year_of_Release', 'EU_Sales'])\n",
    "\n",
    "# Checking the shape of the reduced columns DataFrame\n",
    "reduced_shape = v2.shape\n",
    "reduced_shape"
   ]
  },
  {
   "cell_type": "code",
   "execution_count": null,
   "id": "3a24c6cc",
   "metadata": {},
   "outputs": [],
   "source": []
  },
  {
   "cell_type": "code",
   "execution_count": 15,
   "id": "a74dfe73",
   "metadata": {},
   "outputs": [
    {
     "name": "stdout",
     "output_type": "stream",
     "text": [
      "train(13375, 9), (13375,)\n",
      "test (3344, 9), (3344,)\n"
     ]
    }
   ],
   "source": [
    "##################TRAIN TEST SPLIT de 13375 Global sales värden i y_train är vår target########################\n",
    "from sklearn.model_selection import train_test_split\n",
    "\n",
    "#  target  'Global_Sales' \n",
    "X = v2.drop(columns=['Global_Sales'])  \n",
    "y = v2['Global_Sales']  \n",
    "\n",
    "#  split 80-20\n",
    "X_train, X_test, y_train, y_test = train_test_split(X, y, test_size=0.2, random_state=42)\n",
    "\n",
    "print(f\"train{X_train.shape}, {y_train.shape}\")\n",
    "print(f\"test {X_test.shape}, {y_test.shape}\")"
   ]
  },
  {
   "cell_type": "code",
   "execution_count": null,
   "id": "4e38d6d5",
   "metadata": {},
   "outputs": [],
   "source": [
    "############  Reference model with just all empty rows cleaned  (no encoding no 'curse of dimensionality yet'#####"
   ]
  },
  {
   "cell_type": "code",
   "execution_count": 5,
   "id": "f0396168",
   "metadata": {},
   "outputs": [],
   "source": [
    "combined = pd.concat([X_train, y_train], axis=1)\n",
    "\n",
    "combined_cleaned = combined.dropna()\n",
    "\n",
    "X_train_c = combined_cleaned.iloc[:, :-1]  # All columns except the last\n",
    "y_train_c = combined_cleaned.iloc[:, -1] "
   ]
  },
  {
   "cell_type": "code",
   "execution_count": 8,
   "id": "5be451c3",
   "metadata": {},
   "outputs": [],
   "source": [
    "borttagna_rader = combined_cleaned\n",
    "borttagna_rader.to_csv('borttagna_rader.csv', index=False)\n"
   ]
  },
  {
   "cell_type": "code",
   "execution_count": 11,
   "id": "e649c462",
   "metadata": {},
   "outputs": [
    {
     "name": "stdout",
     "output_type": "stream",
     "text": [
      "<class 'pandas.core.frame.DataFrame'>\n",
      "Int64Index: 1379 entries, 6991 to 2452\n",
      "Data columns (total 9 columns):\n",
      " #   Column        Non-Null Count  Dtype  \n",
      "---  ------        --------------  -----  \n",
      " 0   Name          1379 non-null   object \n",
      " 1   Platform      1379 non-null   object \n",
      " 2   Genre         1379 non-null   object \n",
      " 3   Publisher     1379 non-null   object \n",
      " 4   Critic_Score  1379 non-null   float64\n",
      " 5   Critic_Count  1379 non-null   float64\n",
      " 6   User_Count    1379 non-null   float64\n",
      " 7   Developer     1379 non-null   object \n",
      " 8   Rating        1379 non-null   object \n",
      "dtypes: float64(3), object(6)\n",
      "memory usage: 107.7+ KB\n"
     ]
    }
   ],
   "source": [
    "X_test_c.info()"
   ]
  },
  {
   "cell_type": "code",
   "execution_count": 6,
   "id": "54d00336",
   "metadata": {},
   "outputs": [],
   "source": [
    "combined = pd.concat([X_test, y_test], axis=1)\n",
    "\n",
    "combined_cleaned = combined.dropna()\n",
    "\n",
    "X_test_c = combined_cleaned.iloc[:, :-1]  # All columns except the last\n",
    "y_test_c = combined_cleaned.iloc[:, -1]  "
   ]
  },
  {
   "cell_type": "code",
   "execution_count": 7,
   "id": "d5d5ad6d",
   "metadata": {},
   "outputs": [
    {
     "data": {
      "text/plain": [
       "<catboost.core.CatBoostRegressor at 0x1f04121f010>"
      ]
     },
     "execution_count": 7,
     "metadata": {},
     "output_type": "execute_result"
    }
   ],
   "source": [
    "### Catboost model fitted as reference model without any  feature engineering being done yet#########\n",
    "from catboost import CatBoostRegressor\n",
    "categorical_features = ['Name', 'Platform', 'Genre', 'Publisher', 'Developer', 'Rating']\n",
    "model_c = CatBoostRegressor(cat_features=categorical_features, verbose=0)  # 0 to suppresses output\n",
    "model_c.fit(X_train_c, y_train_c)"
   ]
  },
  {
   "cell_type": "code",
   "execution_count": 8,
   "id": "912d63a5",
   "metadata": {},
   "outputs": [
    {
     "name": "stdout",
     "output_type": "stream",
     "text": [
      "Evaluation Metrics:\n",
      "Mean Absolute Error (MAE): 0.51\n",
      "Mean Squared Error (MSE): 4.60\n",
      "Root Mean Squared Error (RMSE): 2.14\n",
      "R-squared (R²): 0.47\n"
     ]
    }
   ],
   "source": [
    "from sklearn.metrics import mean_absolute_error, mean_squared_error, r2_score\n",
    "pred_c = model_c.predict(X_test_c)\n",
    "mae = mean_absolute_error(y_test_c, pred_c)\n",
    "mse = mean_squared_error(y_test_c, pred_c)\n",
    "rmse = np.sqrt(mse)\n",
    "r_squared = r2_score(y_test_c, pred_c)\n",
    "\n",
    "# Displays\n",
    "print(\"Evaluation Metrics:\")\n",
    "print(f\"Mean Absolute Error (MAE): {mae:.2f}\")\n",
    "print(f\"Mean Squared Error (MSE): {mse:.2f}\")\n",
    "print(f\"Root Mean Squared Error (RMSE): {rmse:.2f}\")\n",
    "print(f\"R-squared (R²): {r_squared:.2f}\")"
   ]
  },
  {
   "cell_type": "code",
   "execution_count": 10,
   "id": "16a29b6c",
   "metadata": {},
   "outputs": [
    {
     "data": {
      "image/png": "[encoded data removed]",
      "text/plain": [
       "<Figure size 800x510 with 2 Axes>"
      ]
     },
     "metadata": {},
     "output_type": "display_data"
    },
    {
     "data": {
      "image/png": "[encoded data removed]",
      "text/plain": [
       "<Figure size 750x500 with 2 Axes>"
      ]
     },
     "metadata": {},
     "output_type": "display_data"
    },
    {
     "data": {
      "text/html": [
       "\n",
       "<div id='i6U78KBWHH7XHC49F2GS0'>\n",
       "<div style='color: #900; text-align: center;'>\n",
       "  <b>Visualization omitted, Javascript library not loaded!</b><br>\n",
       "  Have you run `initjs()` in this notebook? If this notebook was from another\n",
       "  user you must also trust this notebook (File -> Trust notebook). If you are viewing\n",
       "  this notebook on github the Javascript has been stripped for security. If you are using\n",
       "  JupyterLab this error is because a JupyterLab extension has not yet been written.\n",
       "</div></div>\n",
       " <script>\n",
       "   if (window.SHAP) SHAP.ReactDom.render(\n",
       "    SHAP.React.createElement(SHAP.AdditiveForceVisualizer, {\"outNames\": [\"f(x)\"], \"baseValue\": 0.7532343234628204, \"outValue\": 0.24635270706216372, \"link\": \"identity\", \"featureNames\": [\"Name\", \"Platform\", \"Genre\", \"Publisher\", \"Critic_Score\", \"Critic_Count\", \"User_Count\", \"Developer\", \"Rating\"], \"features\": {\"0\": {\"effect\": -0.015010997727200371, \"value\": \"The Incredible Hulk: Ultimate Destruction\"}, \"1\": {\"effect\": -0.1355803231174382, \"value\": \"XB\"}, \"2\": {\"effect\": -0.07074211751609329, \"value\": \"Action\"}, \"3\": {\"effect\": -0.0794070279668079, \"value\": \"Vivendi Games\"}, \"4\": {\"effect\": 0.07116100624464518, \"value\": 84.0}, \"5\": {\"effect\": -0.020679464197294276, \"value\": 47.0}, \"6\": {\"effect\": -0.15898102796783484, \"value\": 22.0}, \"7\": {\"effect\": -0.037328472576074606, \"value\": \"Radical Entertainment\"}, \"8\": {\"effect\": -0.06031319157655826, \"value\": \"T\"}}, \"plot_cmap\": \"RdBu\", \"labelMargin\": 20}),\n",
       "    document.getElementById('i6U78KBWHH7XHC49F2GS0')\n",
       "  );\n",
       "</script>"
      ],
      "text/plain": [
       "<shap.plots._force.AdditiveForceVisualizer at 0x1f04ab3fb10>"
      ]
     },
     "execution_count": 10,
     "metadata": {},
     "output_type": "execute_result"
    }
   ],
   "source": [
    "import shap\n",
    "from catboost import Pool\n",
    "\n",
    "# Pool object categoriska features identifieras\n",
    "cat_features = ['Name', 'Platform', 'Genre', 'Publisher', 'Developer', 'Rating']\n",
    "pool_data = Pool(X_test_c, cat_features=cat_features)\n",
    "\n",
    "explainer = shap.Explainer(model_c)\n",
    "shap_values = explainer.shap_values(X_test_c)\n",
    "\n",
    "# Summary \n",
    "shap.summary_plot(shap_values, X_test_c)\n",
    "\n",
    "# Dependence Plot for a specific feature\n",
    "shap.dependence_plot('User_Count', shap_values, X_test_c)\n",
    "\n",
    "# Force Plot for a specific instance\n",
    "instance_index = 0  # Choose the instance index you want to analyze\n",
    "shap.force_plot(explainer.expected_value, shap_values[instance_index], X_test_c.iloc[instance_index])"
   ]
  },
  {
   "cell_type": "code",
   "execution_count": 11,
   "id": "f2ca5005",
   "metadata": {},
   "outputs": [
    {
     "name": "stdout",
     "output_type": "stream",
     "text": [
      "<class 'shap.explainers._tree.TreeExplainer'>\n"
     ]
    }
   ],
   "source": [
    "print(type(explainer))"
   ]
  },
  {
   "cell_type": "code",
   "execution_count": null,
   "id": "f090b5b7",
   "metadata": {},
   "outputs": [],
   "source": [
    "################## Prediction  and some inference (shap) above\n",
    "####################   reference model done### Can it be improved?? K-fold cross validation maybe ###########################"
   ]
  },
  {
   "cell_type": "code",
   "execution_count": 16,
   "id": "3c654d12",
   "metadata": {},
   "outputs": [],
   "source": [
    "###################  FYLLNING AV TOMMA CELLER för att göra fit mot vår target y_train #######################\n",
    "# median och mode ifyllnad X_train \n",
    "numeric_cols = X_train.select_dtypes(include=['float64', 'int64']).columns\n",
    "\n",
    "X_train2 = X_train.copy()\n",
    "X_train2[numeric_cols] = X_train2[numeric_cols].fillna(X_train2[numeric_cols].median())\n",
    "\n",
    "\n",
    "categorical_cols = X_train.select_dtypes(include=['object']).columns\n",
    "X_train2[categorical_cols] = X_train2[categorical_cols].fillna(X_train2[categorical_cols].mode().iloc[0])\n"
   ]
  },
  {
   "cell_type": "code",
   "execution_count": 17,
   "id": "96dd129b",
   "metadata": {},
   "outputs": [],
   "source": [
    "# median och mode ifyllnad X_test  (annan median o mode annars risk för data leakage)\n",
    "numeric_cols = X_test.select_dtypes(include=['float64', 'int64']).columns\n",
    "\n",
    "X_test2 = X_test.copy()\n",
    "X_test2[numeric_cols] = X_test2[numeric_cols].fillna(X_test2[numeric_cols].median())\n",
    "\n",
    "\n",
    "categorical_cols = X_test.select_dtypes(include=['object']).columns\n",
    "X_test2[categorical_cols] = X_test2[categorical_cols].fillna(X_test2[categorical_cols].mode().iloc[0])\n",
    "########################################################"
   ]
  },
  {
   "cell_type": "code",
   "execution_count": null,
   "id": "f2b3a0db",
   "metadata": {},
   "outputs": [],
   "source": [
    "#############   ENCODINGS for dimensionality reduction och för att skapa numeriska värden #########################"
   ]
  },
  {
   "cell_type": "code",
   "execution_count": 18,
   "id": "300f00ff",
   "metadata": {},
   "outputs": [],
   "source": [
    "X_train3 = X_train2.copy()\n",
    "\n",
    "# Create one-hot encoded columns for 'Ubisoft', 'Nintendo', and 'The rest'\n",
    "X_train3['Dev_Ubisoft'] = X_train3['Developer'].apply(lambda x: 1 if x == 'Ubisoft' else 0)\n",
    "X_train3['Dev_Nintendo'] = X_train3['Developer'].apply(lambda x: 1 if x == 'Nintendo' else 0)\n",
    "\n",
    "# Create 'The rest' column (1 where Developer is not Ubisoft or Nintendo)\n",
    "X_train3['Dev_rest'] = X_train3.apply(lambda row: 1 if (row['Developer'] != 'Ubisoft' and row['Developer'] != 'Nintendo') else 0, axis=1)\n",
    "\n",
    "\n",
    "# Drop the original 'Developer' column\n",
    "X_train3 = X_train3.drop(columns=['Developer'])"
   ]
  },
  {
   "cell_type": "code",
   "execution_count": 19,
   "id": "9f1c75fe",
   "metadata": {},
   "outputs": [],
   "source": [
    "X_test3 = X_test2.copy()\n",
    "\n",
    "# Create one-hot encoded columns for 'Ubisoft', 'Nintendo', and 'The rest'\n",
    "X_test3['Dev_Ubisoft'] = X_test3['Developer'].apply(lambda x: 1 if x == 'Ubisoft' else 0)\n",
    "X_test3['Dev_Nintendo'] = X_test3['Developer'].apply(lambda x: 1 if x == 'Nintendo' else 0)\n",
    "\n",
    "# Create 'The rest' column (1 where Developer is not Ubisoft or Nintendo)\n",
    "X_test3['Dev_rest'] = X_test3.apply(lambda row: 1 if (row['Developer'] != 'Ubisoft' and row['Developer'] != 'Nintendo') else 0, axis=1)\n",
    "\n",
    "\n",
    "# Drop the original 'Developer' column\n",
    "X_test3 = X_test3.drop(columns=['Developer'])"
   ]
  },
  {
   "cell_type": "code",
   "execution_count": 20,
   "id": "c15a0cd8",
   "metadata": {},
   "outputs": [],
   "source": [
    "# one-hot encoding 'E' (Everyone) and Rest\n",
    "X_train3['Rating_E'] = X_train3['Rating'].apply(lambda x: 1 if x == 'E' else 0)\n",
    "\n",
    "#Rest column (1 where Rating is not 'E')\n",
    "X_train3['Rating_Rest'] = X_train3['Rating'].apply(lambda x: 1 if x != 'E' else 0)\n",
    "\n",
    "# Drop the old Rating column\n",
    "X_train3 = X_train3.drop(columns=['Rating'])\n"
   ]
  },
  {
   "cell_type": "code",
   "execution_count": 21,
   "id": "3e05df77",
   "metadata": {},
   "outputs": [],
   "source": [
    "# one-hot encoding 'E' (Everyone) and Rest\n",
    "X_test3['Rating_E'] = X_test3['Rating'].apply(lambda x: 1 if x == 'E' else 0)\n",
    "\n",
    "#Rest column (1 where Rating is not 'E')\n",
    "X_test3['Rating_Rest'] = X_test3['Rating'].apply(lambda x: 1 if x != 'E' else 0)\n",
    "\n",
    "# Drop the old Rating column\n",
    "X_test3 = X_test3.drop(columns=['Rating'])"
   ]
  },
  {
   "cell_type": "code",
   "execution_count": null,
   "id": "1c825c94",
   "metadata": {},
   "outputs": [],
   "source": [
    "#############   ENCODINGS STOP #########################"
   ]
  },
  {
   "cell_type": "code",
   "execution_count": null,
   "id": "f8b7be68",
   "metadata": {},
   "outputs": [],
   "source": []
  },
  {
   "cell_type": "code",
   "execution_count": 30,
   "id": "4df65b69",
   "metadata": {},
   "outputs": [
    {
     "name": "stdout",
     "output_type": "stream",
     "text": [
      "<class 'pandas.core.frame.DataFrame'>\n",
      "Int64Index: 13375 entries, 9162 to 15795\n",
      "Data columns (total 8 columns):\n",
      " #   Column        Non-Null Count  Dtype  \n",
      "---  ------        --------------  -----  \n",
      " 0   Critic_Score  13375 non-null  float64\n",
      " 1   Critic_Count  13375 non-null  float64\n",
      " 2   User_Count    13375 non-null  float64\n",
      " 3   Dev_Ubisoft   13375 non-null  int64  \n",
      " 4   Dev_Nintendo  13375 non-null  int64  \n",
      " 5   Dev_rest      13375 non-null  int64  \n",
      " 6   Rating_E      13375 non-null  int64  \n",
      " 7   Rating_Rest   13375 non-null  int64  \n",
      "dtypes: float64(3), int64(5)\n",
      "memory usage: 940.4 KB\n"
     ]
    }
   ],
   "source": [
    "X_train_selected.info()"
   ]
  },
  {
   "cell_type": "code",
   "execution_count": 22,
   "id": "25525c25",
   "metadata": {},
   "outputs": [],
   "source": [
    "from sklearn.linear_model import LinearRegression"
   ]
  },
  {
   "cell_type": "code",
   "execution_count": 23,
   "id": "7349da53",
   "metadata": {},
   "outputs": [
    {
     "data": {
      "text/html": [
       "<style>#sk-container-id-1 {color: black;}#sk-container-id-1 pre{padding: 0;}#sk-container-id-1 div.sk-toggleable {background-color: white;}#sk-container-id-1 label.sk-toggleable__label {cursor: pointer;display: block;width: 100%;margin-bottom: 0;padding: 0.3em;box-sizing: border-box;text-align: center;}#sk-container-id-1 label.sk-toggleable__label-arrow:before {content: \"▸\";float: left;margin-right: 0.25em;color: #696969;}#sk-container-id-1 label.sk-toggleable__label-arrow:hover:before {color: black;}#sk-container-id-1 div.sk-estimator:hover label.sk-toggleable__label-arrow:before {color: black;}#sk-container-id-1 div.sk-toggleable__content {max-height: 0;max-width: 0;overflow: hidden;text-align: left;background-color: #f0f8ff;}#sk-container-id-1 div.sk-toggleable__content pre {margin: 0.2em;color: black;border-radius: 0.25em;background-color: #f0f8ff;}#sk-container-id-1 input.sk-toggleable__control:checked~div.sk-toggleable__content {max-height: 200px;max-width: 100%;overflow: auto;}#sk-container-id-1 input.sk-toggleable__control:checked~label.sk-toggleable__label-arrow:before {content: \"▾\";}#sk-container-id-1 div.sk-estimator input.sk-toggleable__control:checked~label.sk-toggleable__label {background-color: #d4ebff;}#sk-container-id-1 div.sk-label input.sk-toggleable__control:checked~label.sk-toggleable__label {background-color: #d4ebff;}#sk-container-id-1 input.sk-hidden--visually {border: 0;clip: rect(1px 1px 1px 1px);clip: rect(1px, 1px, 1px, 1px);height: 1px;margin: -1px;overflow: hidden;padding: 0;position: absolute;width: 1px;}#sk-container-id-1 div.sk-estimator {font-family: monospace;background-color: #f0f8ff;border: 1px dotted black;border-radius: 0.25em;box-sizing: border-box;margin-bottom: 0.5em;}#sk-container-id-1 div.sk-estimator:hover {background-color: #d4ebff;}#sk-container-id-1 div.sk-parallel-item::after {content: \"\";width: 100%;border-bottom: 1px solid gray;flex-grow: 1;}#sk-container-id-1 div.sk-label:hover label.sk-toggleable__label {background-color: #d4ebff;}#sk-container-id-1 div.sk-serial::before {content: \"\";position: absolute;border-left: 1px solid gray;box-sizing: border-box;top: 0;bottom: 0;left: 50%;z-index: 0;}#sk-container-id-1 div.sk-serial {display: flex;flex-direction: column;align-items: center;background-color: white;padding-right: 0.2em;padding-left: 0.2em;position: relative;}#sk-container-id-1 div.sk-item {position: relative;z-index: 1;}#sk-container-id-1 div.sk-parallel {display: flex;align-items: stretch;justify-content: center;background-color: white;position: relative;}#sk-container-id-1 div.sk-item::before, #sk-container-id-1 div.sk-parallel-item::before {content: \"\";position: absolute;border-left: 1px solid gray;box-sizing: border-box;top: 0;bottom: 0;left: 50%;z-index: -1;}#sk-container-id-1 div.sk-parallel-item {display: flex;flex-direction: column;z-index: 1;position: relative;background-color: white;}#sk-container-id-1 div.sk-parallel-item:first-child::after {align-self: flex-end;width: 50%;}#sk-container-id-1 div.sk-parallel-item:last-child::after {align-self: flex-start;width: 50%;}#sk-container-id-1 div.sk-parallel-item:only-child::after {width: 0;}#sk-container-id-1 div.sk-dashed-wrapped {border: 1px dashed gray;margin: 0 0.4em 0.5em 0.4em;box-sizing: border-box;padding-bottom: 0.4em;background-color: white;}#sk-container-id-1 div.sk-label label {font-family: monospace;font-weight: bold;display: inline-block;line-height: 1.2em;}#sk-container-id-1 div.sk-label-container {text-align: center;}#sk-container-id-1 div.sk-container {/* jupyter's `normalize.less` sets `[hidden] { display: none; }` but bootstrap.min.css set `[hidden] { display: none !important; }` so we also need the `!important` here to be able to override the default hidden behavior on the sphinx rendered scikit-learn.org. See: https://github.com/scikit-learn/scikit-learn/issues/21755 */display: inline-block !important;position: relative;}#sk-container-id-1 div.sk-text-repr-fallback {display: none;}</style><div id=\"sk-container-id-1\" class=\"sk-top-container\"><div class=\"sk-text-repr-fallback\"><pre>LinearRegression()</pre><b>In a Jupyter environment, please rerun this cell to show the HTML representation or trust the notebook. <br />On GitHub, the HTML representation is unable to render, please try loading this page with nbviewer.org.</b></div><div class=\"sk-container\" hidden><div class=\"sk-item\"><div class=\"sk-estimator sk-toggleable\"><input class=\"sk-toggleable__control sk-hidden--visually\" id=\"sk-estimator-id-1\" type=\"checkbox\" checked><label for=\"sk-estimator-id-1\" class=\"sk-toggleable__label sk-toggleable__label-arrow\">LinearRegression</label><div class=\"sk-toggleable__content\"><pre>LinearRegression()</pre></div></div></div></div></div>"
      ],
      "text/plain": [
       "LinearRegression()"
      ]
     },
     "execution_count": 23,
     "metadata": {},
     "output_type": "execute_result"
    }
   ],
   "source": [
    "X_train_selected = X_train3.iloc[:, -8:]  # Select last 8 columns for example de är numerical nu\n",
    "model = LinearRegression()\n",
    "model.fit(X_train_selected, y_train)"
   ]
  },
  {
   "cell_type": "code",
   "execution_count": 14,
   "id": "15f292a3",
   "metadata": {},
   "outputs": [],
   "source": [
    "coef = model.coef_\n",
    "inte = model.intercept_"
   ]
  },
  {
   "cell_type": "code",
   "execution_count": 15,
   "id": "17bd11f7",
   "metadata": {},
   "outputs": [
    {
     "name": "stdout",
     "output_type": "stream",
     "text": [
      "[ 1.27617135e-02  1.59914836e-02  6.90915202e-04 -1.50456164e+00\n",
      "  2.92808081e+00 -1.42351917e+00  6.64767260e-02 -6.64767260e-02]\n"
     ]
    }
   ],
   "source": [
    "print(coef)"
   ]
  },
  {
   "cell_type": "code",
   "execution_count": 24,
   "id": "22d97ea9",
   "metadata": {},
   "outputs": [
    {
     "name": "stdout",
     "output_type": "stream",
     "text": [
      "[0.96346622 0.45106967 0.52313025 ... 0.45106967 0.21737668 0.45106967]\n"
     ]
    }
   ],
   "source": [
    "X_test_selected = X_test3.iloc[:, -8:]  # Select the same columns as training\n",
    "\n",
    "#  Make predictions using the fitted model\n",
    "predictions = model.predict(X_test_selected)\n",
    "\n",
    "# Print predictions\n",
    "print(predictions)"
   ]
  },
  {
   "cell_type": "code",
   "execution_count": 25,
   "id": "d064c7da",
   "metadata": {},
   "outputs": [
    {
     "name": "stdout",
     "output_type": "stream",
     "text": [
      "<class 'pandas.core.series.Series'>\n",
      "Int64Index: 3344 entries, 6991 to 12077\n",
      "Series name: Global_Sales\n",
      "Non-Null Count  Dtype  \n",
      "--------------  -----  \n",
      "3344 non-null   float64\n",
      "dtypes: float64(1)\n",
      "memory usage: 52.2 KB\n"
     ]
    }
   ],
   "source": [
    "y_test.info() "
   ]
  },
  {
   "cell_type": "code",
   "execution_count": 25,
   "id": "ab9c4173",
   "metadata": {},
   "outputs": [
    {
     "data": {
      "text/plain": [
       "0.5401667025457714"
      ]
     },
     "execution_count": 25,
     "metadata": {},
     "output_type": "execute_result"
    }
   ],
   "source": [
    "sum(predictions) / len(predictions)"
   ]
  },
  {
   "cell_type": "code",
   "execution_count": 24,
   "id": "f465d40b",
   "metadata": {},
   "outputs": [
    {
     "data": {
      "text/plain": [
       "0.5654934210526248"
      ]
     },
     "execution_count": 24,
     "metadata": {},
     "output_type": "execute_result"
    }
   ],
   "source": [
    "sum(y_test) / len (y_test)  #ser 'bra' ut med nästan samma average som y_test på hela predictionsetet iaf"
   ]
  },
  {
   "cell_type": "code",
   "execution_count": 26,
   "id": "14ee45e4",
   "metadata": {},
   "outputs": [
    {
     "name": "stdout",
     "output_type": "stream",
     "text": [
      "Mean Absolute Error (MAE): 0.56\n",
      "Mean Squared Error (MSE): 3.46\n",
      "Root Mean Squared Error (RMSE): 1.86\n",
      "R-squared (R²): 0.16\n"
     ]
    }
   ],
   "source": [
    "from sklearn.metrics import mean_absolute_error, mean_squared_error, r2_score\n",
    "\n",
    "mae = mean_absolute_error(y_test, predictions)\n",
    "mse = mean_squared_error(y_test, predictions)\n",
    "rmse = np.sqrt(mse)\n",
    "r_squared = r2_score(y_test, predictions)\n",
    "\n",
    "# visuals\n",
    "\n",
    "print(f\"Mean Absolute Error (MAE): {mae:.2f}\")\n",
    "print(f\"Mean Squared Error (MSE): {mse:.2f}\")\n",
    "print(f\"Root Mean Squared Error (RMSE): {rmse:.2f}\")\n",
    "print(f\"R-squared (R²): {r_squared:.2f}\")"
   ]
  },
  {
   "cell_type": "code",
   "execution_count": null,
   "id": "b65cca6d",
   "metadata": {},
   "outputs": [],
   "source": [
    "##  Här finns stora möjligheter till förbättring-- Scaler--ny encoding etc...annan modell än Linear regression också"
   ]
  }
 ],
 "metadata": {
  "kernelspec": {
   "display_name": "Python 3 (ipykernel)",
   "language": "python",
   "name": "python3"
  },
  "language_info": {
   "codemirror_mode": {
    "name": "ipython",
    "version": 3
   },
   "file_extension": ".py",
   "mimetype": "text/x-python",
   "name": "python",
   "nbconvert_exporter": "python",
   "pygments_lexer": "ipython3",
   "version": "3.11.4"
  }
 },
 "nbformat": 4,
 "nbformat_minor": 5
}
