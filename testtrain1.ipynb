{
 "cells": [
  {
   "cell_type": "code",
   "execution_count": 3,
   "id": "31c74518",
   "metadata": {},
   "outputs": [],
   "source": [
    "import pandas as pd\n",
    "import numpy as np"
   ]
  },
  {
   "cell_type": "code",
   "execution_count": 4,
   "id": "f0945e34",
   "metadata": {},
   "outputs": [],
   "source": [
    "video_games_sales=pd.read_csv(\"Video_Games_Sales_as_at_22_Dec_2016.csv\")"
   ]
  },
  {
   "cell_type": "code",
   "execution_count": 12,
   "id": "bc11bef8",
   "metadata": {},
   "outputs": [
    {
     "data": {
      "text/plain": [
       "(16719, 10)"
      ]
     },
     "execution_count": 12,
     "metadata": {},
     "output_type": "execute_result"
    }
   ],
   "source": [
    "v2 = video_games_sales.drop(columns=['User_Score', 'NA_Sales', 'JP_Sales', 'Other_Sales', 'Year_of_Release', 'EU_Sales'])\n",
    "\n",
    "# Checking the shape of the cleaned DataFrame\n",
    "cleaned_shape = v2.shape\n",
    "cleaned_shape"
   ]
  },
  {
   "cell_type": "code",
   "execution_count": null,
   "id": "3a24c6cc",
   "metadata": {},
   "outputs": [],
   "source": []
  },
  {
   "cell_type": "code",
   "execution_count": 16,
   "id": "a74dfe73",
   "metadata": {},
   "outputs": [
    {
     "name": "stdout",
     "output_type": "stream",
     "text": [
      "train(13375, 9), (13375,)\n",
      "test (3344, 9), (3344,)\n"
     ]
    }
   ],
   "source": [
    "##################TRAIN TEST SPLIT########################\n",
    "from sklearn.model_selection import train_test_split\n",
    "\n",
    "#  target  'Global_Sales' \n",
    "X = v2.drop(columns=['Global_Sales'])  \n",
    "y = v2['Global_Sales']  \n",
    "\n",
    "#  split 80-20\n",
    "X_train, X_test, y_train, y_test = train_test_split(X, y, test_size=0.2, random_state=42)\n",
    "\n",
    "print(f\"train{X_train.shape}, {y_train.shape}\")\n",
    "print(f\"test {X_test.shape}, {y_test.shape}\")"
   ]
  },
  {
   "cell_type": "code",
   "execution_count": 36,
   "id": "3c654d12",
   "metadata": {},
   "outputs": [],
   "source": [
    "###################  FYLLNING AV TOMMA CELLER#######################\n",
    "# median och mode ifyllnad X_train \n",
    "numeric_cols = X_train.select_dtypes(include=['float64', 'int64']).columns\n",
    "\n",
    "X_train2 = X_train.copy()\n",
    "X_train2[numeric_cols] = X_train2[numeric_cols].fillna(X_train2[numeric_cols].median())\n",
    "\n",
    "\n",
    "categorical_cols = X_train.select_dtypes(include=['object']).columns\n",
    "X_train2[categorical_cols] = X_train2[categorical_cols].fillna(X_train2[categorical_cols].mode().iloc[0])\n"
   ]
  },
  {
   "cell_type": "code",
   "execution_count": 39,
   "id": "96dd129b",
   "metadata": {},
   "outputs": [],
   "source": [
    "# median och mode ifyllnad X_test  (annan median o mode)\n",
    "numeric_cols = X_test.select_dtypes(include=['float64', 'int64']).columns\n",
    "\n",
    "X_test2 = X_test.copy()\n",
    "X_test2[numeric_cols] = X_test2[numeric_cols].fillna(X_test2[numeric_cols].median())\n",
    "\n",
    "\n",
    "categorical_cols = X_test.select_dtypes(include=['object']).columns\n",
    "X_test2[categorical_cols] = X_test2[categorical_cols].fillna(X_test2[categorical_cols].mode().iloc[0])\n",
    "########################################################"
   ]
  },
  {
   "cell_type": "code",
   "execution_count": null,
   "id": "f2b3a0db",
   "metadata": {},
   "outputs": [],
   "source": [
    "#############   ENCODINGS #########################"
   ]
  },
  {
   "cell_type": "code",
   "execution_count": 43,
   "id": "300f00ff",
   "metadata": {},
   "outputs": [],
   "source": [
    "X_train3 = X_train2.copy()\n",
    "\n",
    "# Create one-hot encoded columns for 'Ubisoft', 'Nintendo', and 'The rest'\n",
    "X_train3['Dev_Ubisoft'] = X_train3['Developer'].apply(lambda x: 1 if x == 'Ubisoft' else 0)\n",
    "X_train3['Dev_Nintendo'] = X_train3['Developer'].apply(lambda x: 1 if x == 'Nintendo' else 0)\n",
    "\n",
    "# Create 'The rest' column (1 where Developer is not Ubisoft or Nintendo)\n",
    "X_train3['Dev_rest'] = X_train3.apply(lambda row: 1 if (row['Developer'] != 'Ubisoft' and row['Developer'] != 'Nintendo') else 0, axis=1)\n",
    "\n",
    "\n",
    "# Drop the original 'Developer' column\n",
    "X_train3 = X_train3.drop(columns=['Developer'])"
   ]
  },
  {
   "cell_type": "code",
   "execution_count": 45,
   "id": "9f1c75fe",
   "metadata": {},
   "outputs": [],
   "source": [
    "X_test3 = X_test2.copy()\n",
    "\n",
    "# Create one-hot encoded columns for 'Ubisoft', 'Nintendo', and 'The rest'\n",
    "X_test3['Dev_Ubisoft'] = X_test3['Developer'].apply(lambda x: 1 if x == 'Ubisoft' else 0)\n",
    "X_test3['Dev_Nintendo'] = X_test3['Developer'].apply(lambda x: 1 if x == 'Nintendo' else 0)\n",
    "\n",
    "# Create 'The rest' column (1 where Developer is not Ubisoft or Nintendo)\n",
    "X_test3['Dev_rest'] = X_test3.apply(lambda row: 1 if (row['Developer'] != 'Ubisoft' and row['Developer'] != 'Nintendo') else 0, axis=1)\n",
    "\n",
    "\n",
    "# Drop the original 'Developer' column\n",
    "X_test3 = X_test3.drop(columns=['Developer'])"
   ]
  },
  {
   "cell_type": "code",
   "execution_count": 47,
   "id": "c15a0cd8",
   "metadata": {},
   "outputs": [],
   "source": [
    "# one-hot encoding 'E' (Everyone) and Rest\n",
    "X_train3['Rating_E'] = X_train3['Rating'].apply(lambda x: 1 if x == 'E' else 0)\n",
    "\n",
    "#Rest column (1 where Rating is not 'E')\n",
    "X_train3['Rating_Rest'] = X_train3['Rating'].apply(lambda x: 1 if x != 'E' else 0)\n",
    "\n",
    "# Drop the old Rating column\n",
    "X_train3 = X_train3.drop(columns=['Rating'])\n"
   ]
  },
  {
   "cell_type": "code",
   "execution_count": 49,
   "id": "3e05df77",
   "metadata": {},
   "outputs": [],
   "source": [
    "# one-hot encoding 'E' (Everyone) and Rest\n",
    "X_test3['Rating_E'] = X_test3['Rating'].apply(lambda x: 1 if x == 'E' else 0)\n",
    "\n",
    "#Rest column (1 where Rating is not 'E')\n",
    "X_test3['Rating_Rest'] = X_test3['Rating'].apply(lambda x: 1 if x != 'E' else 0)\n",
    "\n",
    "# Drop the old Rating column\n",
    "X_test3 = X_test3.drop(columns=['Rating'])"
   ]
  },
  {
   "cell_type": "code",
   "execution_count": null,
   "id": "1c825c94",
   "metadata": {},
   "outputs": [],
   "source": [
    "#############   ENCODINGS STOP #########################"
   ]
  },
  {
   "cell_type": "code",
   "execution_count": null,
   "id": "f8b7be68",
   "metadata": {},
   "outputs": [],
   "source": []
  },
  {
   "cell_type": "code",
   "execution_count": 50,
   "id": "4df65b69",
   "metadata": {},
   "outputs": [
    {
     "name": "stdout",
     "output_type": "stream",
     "text": [
      "<class 'pandas.core.frame.DataFrame'>\n",
      "Int64Index: 3344 entries, 6991 to 12077\n",
      "Data columns (total 12 columns):\n",
      " #   Column        Non-Null Count  Dtype  \n",
      "---  ------        --------------  -----  \n",
      " 0   Name          3344 non-null   object \n",
      " 1   Platform      3344 non-null   object \n",
      " 2   Genre         3344 non-null   object \n",
      " 3   Publisher     3344 non-null   object \n",
      " 4   Critic_Score  3344 non-null   float64\n",
      " 5   Critic_Count  3344 non-null   float64\n",
      " 6   User_Count    3344 non-null   float64\n",
      " 7   Dev_Ubisoft   3344 non-null   int64  \n",
      " 8   Dev_Nintendo  3344 non-null   int64  \n",
      " 9   Dev_rest      3344 non-null   int64  \n",
      " 10  Rating_E      3344 non-null   int64  \n",
      " 11  Rating_Rest   3344 non-null   int64  \n",
      "dtypes: float64(3), int64(5), object(4)\n",
      "memory usage: 339.6+ KB\n"
     ]
    }
   ],
   "source": [
    "X_test3.info()"
   ]
  },
  {
   "cell_type": "code",
   "execution_count": 51,
   "id": "25525c25",
   "metadata": {},
   "outputs": [],
   "source": [
    "from sklearn.linear_model import LinearRegression"
   ]
  },
  {
   "cell_type": "code",
   "execution_count": 64,
   "id": "7349da53",
   "metadata": {},
   "outputs": [
    {
     "data": {
      "text/html": [
       "<style>#sk-container-id-3 {color: black;}#sk-container-id-3 pre{padding: 0;}#sk-container-id-3 div.sk-toggleable {background-color: white;}#sk-container-id-3 label.sk-toggleable__label {cursor: pointer;display: block;width: 100%;margin-bottom: 0;padding: 0.3em;box-sizing: border-box;text-align: center;}#sk-container-id-3 label.sk-toggleable__label-arrow:before {content: \"▸\";float: left;margin-right: 0.25em;color: #696969;}#sk-container-id-3 label.sk-toggleable__label-arrow:hover:before {color: black;}#sk-container-id-3 div.sk-estimator:hover label.sk-toggleable__label-arrow:before {color: black;}#sk-container-id-3 div.sk-toggleable__content {max-height: 0;max-width: 0;overflow: hidden;text-align: left;background-color: #f0f8ff;}#sk-container-id-3 div.sk-toggleable__content pre {margin: 0.2em;color: black;border-radius: 0.25em;background-color: #f0f8ff;}#sk-container-id-3 input.sk-toggleable__control:checked~div.sk-toggleable__content {max-height: 200px;max-width: 100%;overflow: auto;}#sk-container-id-3 input.sk-toggleable__control:checked~label.sk-toggleable__label-arrow:before {content: \"▾\";}#sk-container-id-3 div.sk-estimator input.sk-toggleable__control:checked~label.sk-toggleable__label {background-color: #d4ebff;}#sk-container-id-3 div.sk-label input.sk-toggleable__control:checked~label.sk-toggleable__label {background-color: #d4ebff;}#sk-container-id-3 input.sk-hidden--visually {border: 0;clip: rect(1px 1px 1px 1px);clip: rect(1px, 1px, 1px, 1px);height: 1px;margin: -1px;overflow: hidden;padding: 0;position: absolute;width: 1px;}#sk-container-id-3 div.sk-estimator {font-family: monospace;background-color: #f0f8ff;border: 1px dotted black;border-radius: 0.25em;box-sizing: border-box;margin-bottom: 0.5em;}#sk-container-id-3 div.sk-estimator:hover {background-color: #d4ebff;}#sk-container-id-3 div.sk-parallel-item::after {content: \"\";width: 100%;border-bottom: 1px solid gray;flex-grow: 1;}#sk-container-id-3 div.sk-label:hover label.sk-toggleable__label {background-color: #d4ebff;}#sk-container-id-3 div.sk-serial::before {content: \"\";position: absolute;border-left: 1px solid gray;box-sizing: border-box;top: 0;bottom: 0;left: 50%;z-index: 0;}#sk-container-id-3 div.sk-serial {display: flex;flex-direction: column;align-items: center;background-color: white;padding-right: 0.2em;padding-left: 0.2em;position: relative;}#sk-container-id-3 div.sk-item {position: relative;z-index: 1;}#sk-container-id-3 div.sk-parallel {display: flex;align-items: stretch;justify-content: center;background-color: white;position: relative;}#sk-container-id-3 div.sk-item::before, #sk-container-id-3 div.sk-parallel-item::before {content: \"\";position: absolute;border-left: 1px solid gray;box-sizing: border-box;top: 0;bottom: 0;left: 50%;z-index: -1;}#sk-container-id-3 div.sk-parallel-item {display: flex;flex-direction: column;z-index: 1;position: relative;background-color: white;}#sk-container-id-3 div.sk-parallel-item:first-child::after {align-self: flex-end;width: 50%;}#sk-container-id-3 div.sk-parallel-item:last-child::after {align-self: flex-start;width: 50%;}#sk-container-id-3 div.sk-parallel-item:only-child::after {width: 0;}#sk-container-id-3 div.sk-dashed-wrapped {border: 1px dashed gray;margin: 0 0.4em 0.5em 0.4em;box-sizing: border-box;padding-bottom: 0.4em;background-color: white;}#sk-container-id-3 div.sk-label label {font-family: monospace;font-weight: bold;display: inline-block;line-height: 1.2em;}#sk-container-id-3 div.sk-label-container {text-align: center;}#sk-container-id-3 div.sk-container {/* jupyter's `normalize.less` sets `[hidden] { display: none; }` but bootstrap.min.css set `[hidden] { display: none !important; }` so we also need the `!important` here to be able to override the default hidden behavior on the sphinx rendered scikit-learn.org. See: https://github.com/scikit-learn/scikit-learn/issues/21755 */display: inline-block !important;position: relative;}#sk-container-id-3 div.sk-text-repr-fallback {display: none;}</style><div id=\"sk-container-id-3\" class=\"sk-top-container\"><div class=\"sk-text-repr-fallback\"><pre>LinearRegression()</pre><b>In a Jupyter environment, please rerun this cell to show the HTML representation or trust the notebook. <br />On GitHub, the HTML representation is unable to render, please try loading this page with nbviewer.org.</b></div><div class=\"sk-container\" hidden><div class=\"sk-item\"><div class=\"sk-estimator sk-toggleable\"><input class=\"sk-toggleable__control sk-hidden--visually\" id=\"sk-estimator-id-3\" type=\"checkbox\" checked><label for=\"sk-estimator-id-3\" class=\"sk-toggleable__label sk-toggleable__label-arrow\">LinearRegression</label><div class=\"sk-toggleable__content\"><pre>LinearRegression()</pre></div></div></div></div></div>"
      ],
      "text/plain": [
       "LinearRegression()"
      ]
     },
     "execution_count": 64,
     "metadata": {},
     "output_type": "execute_result"
    }
   ],
   "source": [
    "X_train_selected = X_train3.iloc[:, -8:]  # Select last 3 columns for example\n",
    "model = LinearRegression()\n",
    "model.fit(X_train_selected, y_train)"
   ]
  },
  {
   "cell_type": "code",
   "execution_count": 65,
   "id": "15f292a3",
   "metadata": {},
   "outputs": [],
   "source": [
    "coef = model.coef_\n",
    "inte = model.intercept_"
   ]
  },
  {
   "cell_type": "code",
   "execution_count": 66,
   "id": "17bd11f7",
   "metadata": {},
   "outputs": [
    {
     "name": "stdout",
     "output_type": "stream",
     "text": [
      "[ 1.27617135e-02  1.59914836e-02  6.90915202e-04 -1.50456164e+00\n",
      "  2.92808081e+00 -1.42351917e+00  6.64767260e-02 -6.64767260e-02]\n"
     ]
    }
   ],
   "source": [
    "print(coef)"
   ]
  },
  {
   "cell_type": "code",
   "execution_count": 68,
   "id": "22d97ea9",
   "metadata": {},
   "outputs": [
    {
     "name": "stdout",
     "output_type": "stream",
     "text": [
      "[0.96346622 0.45106967 0.52313025 ... 0.45106967 0.21737668 0.45106967]\n"
     ]
    }
   ],
   "source": [
    "X_test_selected = X_test3.iloc[:, -8:]  # Select the same columns as in training\n",
    "\n",
    "# Step 8: Make predictions using the fitted model\n",
    "predictions = model.predict(X_test_selected)\n",
    "\n",
    "# Print predictions\n",
    "print(predictions)"
   ]
  },
  {
   "cell_type": "code",
   "execution_count": null,
   "id": "1de48772",
   "metadata": {},
   "outputs": [],
   "source": [
    "#############   whole process###############################"
   ]
  },
  {
   "cell_type": "code",
   "execution_count": null,
   "id": "0d6f7697",
   "metadata": {},
   "outputs": [],
   "source": [
    "import pandas as pd\n",
    "from sklearn.model_selection import train_test_split\n",
    "from sklearn.linear_model import LinearRegression\n",
    "\n",
    "# Sample DataFrame\n",
    "data = {\n",
    "    'Platform': ['PS2', 'X360', 'Wii', 'PS3', 'DS', 'PS2'],\n",
    "    'Genre': ['Action', 'Adventure', 'Puzzle', 'Action', 'Puzzle', 'Action'],\n",
    "    'Rating': ['E', 'M', 'E', None, 'T', 'E'],\n",
    "    'Global_Sales': [3.5, 5.2, 1.3, 4.1, 2.2, 3.0]\n",
    "}\n",
    "df = pd.DataFrame(data)\n",
    "\n",
    "# Step 1: Split the data into features and target variable\n",
    "X = df.drop(columns=['Global_Sales'])\n",
    "y = df['Global_Sales']\n",
    "\n",
    "# Step 2: Split the data into training and testing sets\n",
    "X_train, X_test, y_train, y_test = train_test_split(X, y, test_size=0.2, random_state=42)\n",
    "\n",
    "# Step 3: Handle missing values, e.g., with SimpleImputer\n",
    "from sklearn.impute import SimpleImputer\n",
    "\n",
    "imputer = SimpleImputer(strategy='most_frequent')\n",
    "X_train_imputed = imputer.fit_transform(X_train)\n",
    "X_test_imputed = imputer.transform(X_test)\n",
    "\n",
    "# Convert back to DataFrame for easier column selection\n",
    "X_train_imputed = pd.DataFrame(X_train_imputed, columns=X_train.columns)\n",
    "X_test_imputed = pd.DataFrame(X_test_imputed, columns=X_test.columns)\n",
    "\n",
    "# Step 4: One-Hot Encode categorical variables for X_train\n",
    "X_train_encoded = pd.get_dummies(X_train_imputed, drop_first=True)\n",
    "\n",
    "# Step 5: One-Hot Encode categorical variables for X_test\n",
    "X_test_encoded = pd.get_dummies(X_test_imputed, drop_first=True)\n",
    "\n",
    "# Align columns in train and test sets\n",
    "X_train_encoded, X_test_encoded = X_train_encoded.align(X_test_encoded, join='left', axis=1, fill_value=0)\n",
    "\n",
    "# Step 6: Select the last columns (e.g., all columns except the first few)\n",
    "# This assumes you want to drop the first columns and keep the last columns for model fitting.\n",
    "# Adjust the indexing according to your needs.\n",
    "X_train_selected = X_train_encoded.iloc[:, -3:]  # Select last 3 columns for example\n",
    "\n",
    "# Step 7: Fit the model using the selected features\n",
    "model = LinearRegression()\n",
    "model.fit(X_train_selected, y_train)\n",
    "\n",
    "# Now you can also select the corresponding columns in X_test_encoded for predictions\n",
    "X_test_selected = X_test_encoded.iloc[:, -3:]  # Select the same columns as in training\n",
    "\n",
    "# Step 8: Make predictions using the fitted model\n",
    "predictions = model.predict(X_test_selected)\n",
    "\n",
    "# Print predictions\n",
    "print(predictions)\n"
   ]
  }
 ],
 "metadata": {
  "kernelspec": {
   "display_name": "Python 3 (ipykernel)",
   "language": "python",
   "name": "python3"
  },
  "language_info": {
   "codemirror_mode": {
    "name": "ipython",
    "version": 3
   },
   "file_extension": ".py",
   "mimetype": "text/x-python",
   "name": "python",
   "nbconvert_exporter": "python",
   "pygments_lexer": "ipython3",
   "version": "3.11.4"
  }
 },
 "nbformat": 4,
 "nbformat_minor": 5
}
